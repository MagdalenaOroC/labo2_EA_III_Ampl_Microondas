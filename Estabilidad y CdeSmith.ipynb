{
 "cells": [
  {
   "cell_type": "markdown",
   "id": "d5f105b7",
   "metadata": {},
   "source": [
    "## Polarización y estabilidad\n"
   ]
  },
  {
   "cell_type": "markdown",
   "id": "2da1d3cc",
   "metadata": {},
   "source": [
    "### Imports y configuracion inicial "
   ]
  },
  {
   "cell_type": "code",
   "execution_count": 9,
   "id": "ac0f7bcf",
   "metadata": {},
   "outputs": [],
   "source": [
    "# ==================== IMPORTS ====================\n",
    "import os\n",
    "import numpy as np\n",
    "import pandas as pd\n",
    "import skrf as rf\n",
    "\n",
    "import matplotlib.pyplot as plt\n",
    "import seaborn as sns\n",
    "from matplotlib.patches import Rectangle"
   ]
  },
  {
   "cell_type": "markdown",
   "id": "7d2dbb9c",
   "metadata": {},
   "source": [
    "### Parametros fijos y constantes del sistema"
   ]
  },
  {
   "cell_type": "code",
   "execution_count": 10,
   "id": "cb62cd9f",
   "metadata": {},
   "outputs": [],
   "source": [
    "# ==================== CONSTANTES ====================\n",
    "er = 4.5   # Constante dieléctrica del sustrato (por ejemplo FR4)\n",
    "H = 1.66    # Espesor del dieléctrico en mm\n",
    "c= 3e8    # Velocidad de la luz en m/s\n",
    "f = 2.2e9  # Frecuencia objetivo en Hz\n",
    "t = 0.04  # Espesor de la microtira en mm\n",
    "lambd = c / f  # Longitud de onda en m\n",
    "Z0 = 50  # Impedancia característica\n",
    "\n"
   ]
  },
  {
   "cell_type": "markdown",
   "id": "39777011",
   "metadata": {},
   "source": [
    "### Carga de datos "
   ]
  },
  {
   "cell_type": "code",
   "execution_count": 11,
   "id": "92ac064a",
   "metadata": {},
   "outputs": [
    {
     "name": "stderr",
     "output_type": "stream",
     "text": [
      "<>:2: SyntaxWarning: invalid escape sequence '\\m'\n",
      "<>:2: SyntaxWarning: invalid escape sequence '\\m'\n",
      "C:\\Users\\magda\\AppData\\Local\\Temp\\ipykernel_18272\\1023869094.py:2: SyntaxWarning: invalid escape sequence '\\m'\n",
      "  s2p_folder = \"Users\\magda\\OneDrive\\Documentos\\EA!!!\\Tp\\BFP450\"\n"
     ]
    }
   ],
   "source": [
    "# Ruta de la carpeta que contiene los archivos .s2p\n",
    "s2p_folder = \"Users\\magda\\OneDrive\\Documentos\\EA!!!\\Tp\\BFP450\"\n",
    "# Obtener la lista de archivos .s2p en la carpeta\n",
    "target_freq_ghz = 2.200\n"
   ]
  },
  {
   "cell_type": "markdown",
   "id": "5452d8a5",
   "metadata": {},
   "source": [
    "### Calculo parametros de estabilidad"
   ]
  },
  {
   "cell_type": "markdown",
   "id": "c6b10830",
   "metadata": {},
   "source": []
  },
  {
   "cell_type": "code",
   "execution_count": 12,
   "id": "c664df24",
   "metadata": {},
   "outputs": [],
   "source": [
    "# ==================== FUNCIONES ====================\n",
    "def rollet_k(S):\n",
    "    S11, S21, S12, S22 = S[0, 0], S[1, 0], S[0, 1], S[1, 1]\n",
    "    delta = S11 * S22 - S12 * S21\n",
    "    k_num = 1 - abs(S11)**2 - abs(S22)**2 + abs(delta)**2\n",
    "    k_den = 2 * abs(S12 * S21)\n",
    "    K = k_num / k_den if k_den != 0 else 0\n",
    "    return K, delta, S21, S12, S11, S22\n",
    "\n",
    "def calcular_coeficientes_refleccion(S11, S22, S12, S21, delta):\n",
    "    B1 = 1 + abs(S11)**2 - abs(S22)**2 - abs(delta)**2\n",
    "    B2 = 1 + abs(S22)**2 - abs(S11)**2 - abs(delta)**2\n",
    "    C1 = S11 - delta * np.conj(S22)\n",
    "    C2 = S22 - delta * np.conj(S11)\n",
    "\n",
    "    rho_in_m = np.conj((B1 - np.sqrt(B1**2 - 4 * abs(C1)**2)) / (2 * C1))\n",
    "    rho_out_m = np.conj((B2 - np.sqrt(B2**2 - 4 * abs(C2)**2)) / (2 * C2))\n",
    "\n",
    "    Zin = Z0 * (1 + rho_in_m) / (1 - rho_in_m)\n",
    "    Zout = Z0 * (1 + rho_out_m) / (1 - rho_out_m)\n",
    "\n",
    "    return rho_in_m, rho_out_m, Zin, Zout\n",
    "\n",
    "def calcular_microtira(Z0, er, H):\n",
    "    A = Z0 / 60 * np.sqrt((er + 1) / 2) + ((er - 1) / (er + 1)) * (0.23 + 0.11 / er)\n",
    "    B = 377 * np.pi / (2 * Z0 * np.sqrt(er))\n",
    "\n",
    "    W_H5 = 8 * np.exp(A) / (np.exp(2 * A) - 2)\n",
    "    W_H6 = 2 / np.pi * (B - 1 - np.log(2 * B - 1) + (er - 1) / (2 * er) * (np.log(B - 1) + 0.39 - 0.61 / er))\n",
    "\n",
    "    W_H = W_H5 if W_H5 <= 2 else W_H6\n",
    "    W = W_H * H\n",
    "\n",
    "    if W_H <= (1 / (2 * np.pi)):\n",
    "        Weff = W + (t / np.pi) * (1 + np.log(4 * np.pi * W / t))\n",
    "    else:\n",
    "        Weff = W + (t / np.pi) * (1 + np.log(2 * H / t))\n",
    "\n",
    "    if W_H <= 1:\n",
    "        erp = ((er + 1) / 2) + ((er - 1) / 2) * (1 / np.sqrt(1 + 12 * (H / W)) + 0.04 * (1 - W_H)**2)\n",
    "        z0 = 60 / np.sqrt(erp) * np.log(8 * H / W + 0.25 * (W / H))\n",
    "    else:\n",
    "        erp = ((er + 1) / 2) + ((er - 1) / 2) * (1 / np.sqrt(1 + 12 * (H / W)))\n",
    "        z0 = 120 * np.pi / np.sqrt(erp) / (W / H + 1.393 + 0.667 * np.log(W / H + 1.444))\n",
    "\n",
    "    return W_H, z0, erp, Weff\n"
   ]
  },
  {
   "cell_type": "markdown",
   "id": "bc4f8a51",
   "metadata": {},
   "source": [
    "### Circulos de estabilidad"
   ]
  },
  {
   "cell_type": "code",
   "execution_count": 13,
   "id": "f068dcd3",
   "metadata": {},
   "outputs": [
    {
     "name": "stdout",
     "output_type": "stream",
     "text": [
      "Archivo cargado: C:\\Users\\magda\\OneDrive\\Documentos\\GitHub\\labo2_EA_III_Ampl_Microondas\\BFP450\\BFP450_w_noise_VCE_4.0V_IC_40mA.s2p\n",
      "K: 1.107, Delta: 0.263-0.516j\n"
     ]
    },
    {
     "data": {
      "image/png": "[encoded data removed]",
      "text/plain": [
       "<Figure size 800x600 with 1 Axes>"
      ]
     },
     "metadata": {},
     "output_type": "display_data"
    }
   ],
   "source": [
    "import numpy as np\n",
    "import skrf as rf\n",
    "import matplotlib.pyplot as plt\n",
    "\n",
    "# === Configuración ===\n",
    "archivo_s2p = r'C:\\Users\\magda\\OneDrive\\Documentos\\GitHub\\labo2_EA_III_Ampl_Microondas\\BFP450\\BFP450_w_noise_VCE_4.0V_IC_40mA.s2p'\n",
    "frecuencia_objetivo = 2.2e9  # Hz\n",
    "\n",
    "# === Carga del archivo y red ===\n",
    "ntw = rf.Network(archivo_s2p)\n",
    "print(f\"Archivo cargado: {archivo_s2p}\")\n",
    "\n",
    "# Índice de frecuencia más cercana\n",
    "idx_frec = np.argmin(np.abs(ntw.f - frecuencia_objetivo))\n",
    "\n",
    "# Extraer S-parameters\n",
    "s = ntw.s[idx_frec, :, :]\n",
    "s11, s12, s21, s22 = s[0, 0], s[0, 1], s[1, 0], s[1, 1]\n",
    "\n",
    "# === Parámetros de estabilidad ===\n",
    "delta = s11 * s22 - s12 * s21\n",
    "K = (1 - abs(s11)**2 - abs(s22)**2 + abs(delta)**2) / (2 * abs(s12 * s21))\n",
    "print(f\"K: {K:.3f}, Delta: {delta:.3f}\")\n",
    "\n",
    "# === Círculo de carga ===\n",
    "Cl = (np.conj(s22) - delta * np.conj(s11)) / (abs(s22)**2 - abs(delta)**2)\n",
    "rl = abs(s12 * s21) / (abs(s22)**2 - abs(delta)**2)\n",
    "\n",
    "# === Círculo de fuente ===\n",
    "Cs = (np.conj(s11) - delta * np.conj(s22)) / (abs(s11)**2 - abs(delta)**2)\n",
    "rs = abs(s12 * s21) / (abs(s11)**2 - abs(delta)**2)\n",
    "\n",
    "# === Graficar ===\n",
    "fig, ax = plt.subplots(figsize=(8, 6))\n",
    "rf.plotting.plot_smith(ax=ax, s=s)\n",
    "\n",
    "# Función para trazar un círculo\n",
    "def trazar_circulo(ax, centro, radio, color, etiqueta):\n",
    "    t = np.linspace(0, 2*np.pi, 500)\n",
    "    puntos = centro + radio * np.exp(1j * t)\n",
    "    ax.plot(np.real(puntos), np.imag(puntos), color=color, label=etiqueta)\n",
    "\n",
    "trazar_circulo(ax, Cl, rl, 'red', 'Círculo de carga')\n",
    "trazar_circulo(ax, Cs, rs, 'blue', 'Círculo de fuente')\n",
    "\n",
    "ax.set_title(f'Círculos de Estabilidad - {ntw.f[idx_frec]/1e9:.2f} GHz')\n",
    "ax.set_xlabel('Real')\n",
    "ax.set_ylabel('Imaginary')\n",
    "ax.legend()\n",
    "plt.grid(True)\n",
    "plt.axis('equal')\n",
    "plt.show()"
   ]
  }
 ],
 "metadata": {
  "kernelspec": {
   "display_name": "Python 3",
   "language": "python",
   "name": "python3"
  },
  "language_info": {
   "codemirror_mode": {
    "name": "ipython",
    "version": 3
   },
   "file_extension": ".py",
   "mimetype": "text/x-python",
   "name": "python",
   "nbconvert_exporter": "python",
   "pygments_lexer": "ipython3",
   "version": "3.13.0"
  }
 },
 "nbformat": 4,
 "nbformat_minor": 5
}
